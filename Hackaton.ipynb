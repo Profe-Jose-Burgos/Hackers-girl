{
 "cells": [
  {
   "cell_type": "code",
   "execution_count": 7,
   "id": "0432419e",
   "metadata": {},
   "outputs": [
    {
     "name": "stdout",
     "output_type": "stream",
     "text": [
      "['What', 'is', 'the', 'passenger', 'capacity', 'to', 'travel', '?', 'hola']\n",
      "\n",
      "\n",
      "\n",
      "[['hola'], ['hola'], ['hola'], ['hola'], ['hola'], ['hola'], ['hola'], ['hola'], ['hola'], ['hola'], ['hola'], ['hola'], ['hola'], ['hola'], ['hola'], ['hola'], ['hola'], ['hola'], ['hola'], ['hola'], ['hola'], ['hola'], ['hola'], ['hola'], ['hola'], ['hola'], ['hola'], ['hola'], ['hola']]\n",
      "\n",
      "\n",
      "\n",
      "['greeting', 'greeting', 'greeting', 'greeting', 'greeting', 'greeting', 'greeting', 'goodbye', 'goodbye', 'goodbye', 'thanks', 'thanks', 'thanks', 'hours', 'hours', 'hours', 'hours', 'payments', 'payments', 'payments', 'opentoday', 'opentoday', 'opentoday', 'location', 'location', 'location', 'hotel options', 'transportation', 'transportation 2.0']\n",
      "\n",
      "\n",
      "\n",
      "['greeting', 'goodbye', 'thanks', 'hours', 'payments', 'opentoday', 'location', 'hotel options', 'transportation', 'transportation 2.0']\n"
     ]
    }
   ],
   "source": [
    "import nltk \n",
    "from nltk.stem.lancaster import LancasterStemmer\n",
    "import tensorflow\n",
    "import tflearn\n",
    "import random\n",
    "import numpy as np \n",
    "\n",
    "stemmer = LancasterStemmer \n",
    "\n",
    "import json \n",
    "with open ('intents(Hackers Girls).json') as file:\n",
    "    data = json.load(file)\n",
    "data\n",
    "\n",
    "word=[]#palabras \n",
    "labels=[]#titulos,legendas \n",
    "docs_x=[]\n",
    "docs_y=[]\n",
    "\n",
    "#con ese for llenare la variable que guarda las palabra\n",
    "for intents in data ['intents']:\n",
    "    for patterns in intents['patterns']:\n",
    "        words = nltk.word_tokenize(patterns)\n",
    "        words.extend(wrds)\n",
    "        docs_x.append(wrds)\n",
    "        docs_y.append(intents[\"tag\"])\n",
    "\n",
    "        if intents[\"tag\"] not in labels:\n",
    "            labels.append(intents[\"tag\"])\n",
    "\n",
    "\n",
    "print (words)\n",
    "print (\"\")\n",
    "print (\"\")\n",
    "print (\"\")\n",
    "print (docs_x)\n",
    "print (\"\")\n",
    "print (\"\")\n",
    "print (\"\")\n",
    "print (docs_y)\n",
    "print (\"\")\n",
    "print (\"\")\n",
    "print (\"\")\n",
    "print (labels)\n"
   ]
  }
 ],
 "metadata": {
  "kernelspec": {
   "display_name": "Python 3 (ipykernel)",
   "language": "python",
   "name": "python3"
  },
  "language_info": {
   "codemirror_mode": {
    "name": "ipython",
    "version": 3
   },
   "file_extension": ".py",
   "mimetype": "text/x-python",
   "name": "python",
   "nbconvert_exporter": "python",
   "pygments_lexer": "ipython3",
   "version": "3.9.13"
  }
 },
 "nbformat": 4,
 "nbformat_minor": 5
}
